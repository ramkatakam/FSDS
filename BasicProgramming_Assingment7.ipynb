{
 "cells": [
  {
   "cell_type": "markdown",
   "metadata": {},
   "source": [
    "1.\tWrite a Python Program to find sum of array?"
   ]
  },
  {
   "cell_type": "code",
   "execution_count": 2,
   "metadata": {},
   "outputs": [
    {
     "name": "stdout",
     "output_type": "stream",
     "text": [
      "sum of array  is:  129\n"
     ]
    }
   ],
   "source": [
    "arr=[3,6,34,74,12]\n",
    "print(\"sum of array  is: \",sum(arr))"
   ]
  },
  {
   "cell_type": "markdown",
   "metadata": {},
   "source": [
    "2.\tWrite a Python Program to find largest element in an array?"
   ]
  },
  {
   "cell_type": "code",
   "execution_count": 3,
   "metadata": {},
   "outputs": [
    {
     "data": {
      "text/plain": [
       "74"
      ]
     },
     "execution_count": 3,
     "metadata": {},
     "output_type": "execute_result"
    }
   ],
   "source": [
    "arr=[3,6,34,74,12]\n",
    "max(arr)"
   ]
  },
  {
   "cell_type": "markdown",
   "metadata": {},
   "source": [
    "3.\tWrite a Python Program for array rotation?"
   ]
  },
  {
   "cell_type": "code",
   "execution_count": 7,
   "metadata": {},
   "outputs": [
    {
     "name": "stdout",
     "output_type": "stream",
     "text": [
      "array before rotation:  [32, 7, 34, 76, 3, 6, 34, 74, 12]\n",
      "array rotated by 3 is [76, 3, 6, 34, 74, 12, 32, 7, 34]\n"
     ]
    }
   ],
   "source": [
    "arr=[32,7,34,76,3,6,34,74,12]\n",
    "rot=3\n",
    "rotatedarr=arr[rot:len(arr)]+arr[0:rot]\n",
    "print(\"array before rotation: \",arr)\n",
    "print(\"array rotated by {} is {}\".format(rot,rotatedarr))"
   ]
  },
  {
   "cell_type": "markdown",
   "metadata": {},
   "source": [
    "4.\tWrite a Python Program to Split the array and add the first part to the end?"
   ]
  },
  {
   "cell_type": "code",
   "execution_count": 8,
   "metadata": {},
   "outputs": [
    {
     "name": "stdout",
     "output_type": "stream",
     "text": [
      "array before split:  [32, 7, 34, 76, 3, 6, 34, 74, 12]\n",
      "array splited at 3 and after add first part to the end is [76, 3, 6, 34, 74, 12, 32, 7, 34]\n"
     ]
    }
   ],
   "source": [
    "arr=[32,7,34,76,3,6,34,74,12]\n",
    "split=3\n",
    "splitarr=arr[split::]+arr[:split]\n",
    "print(\"array before split: \",arr)\n",
    "print(\"array splited at {} and after add first part to the end is {}\".format(split,splitarr))"
   ]
  },
  {
   "cell_type": "markdown",
   "metadata": {},
   "source": [
    "5.\tWrite a Python Program to check if given array is Monotonic?"
   ]
  },
  {
   "cell_type": "code",
   "execution_count": 24,
   "metadata": {},
   "outputs": [
    {
     "name": "stdout",
     "output_type": "stream",
     "text": [
      "not monotonic increase\n",
      "not monotonic decrease\n"
     ]
    }
   ],
   "source": [
    "arr=[32,7,34,76,3,6,34,74,12]\n",
    "for i in range(0,len(arr)-1):\n",
    "    if not (arr[i]< arr[i+1]):\n",
    "        print(\"not monotonic increase\")\n",
    "        break\n",
    "for i in range(0,len(arr)-1):\n",
    "    if not (arr[i]> arr[i+1]):\n",
    "        print(\"not monotonic decrease\")\n",
    "        break\n",
    "    "
   ]
  },
  {
   "cell_type": "code",
   "execution_count": null,
   "metadata": {},
   "outputs": [],
   "source": []
  },
  {
   "cell_type": "code",
   "execution_count": null,
   "metadata": {},
   "outputs": [],
   "source": []
  }
 ],
 "metadata": {
  "kernelspec": {
   "display_name": "Python 3",
   "language": "python",
   "name": "python3"
  },
  "language_info": {
   "codemirror_mode": {
    "name": "ipython",
    "version": 3
   },
   "file_extension": ".py",
   "mimetype": "text/x-python",
   "name": "python",
   "nbconvert_exporter": "python",
   "pygments_lexer": "ipython3",
   "version": "3.7.1"
  }
 },
 "nbformat": 4,
 "nbformat_minor": 2
}
