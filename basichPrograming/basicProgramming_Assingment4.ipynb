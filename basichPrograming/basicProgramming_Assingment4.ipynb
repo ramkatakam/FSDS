{
 "cells": [
  {
   "cell_type": "raw",
   "metadata": {},
   "source": [
    "1.\tWrite a Python Program to Find the Factorial of a Number?"
   ]
  },
  {
   "cell_type": "code",
   "execution_count": 12,
   "metadata": {},
   "outputs": [
    {
     "name": "stdout",
     "output_type": "stream",
     "text": [
      "enter number to get factorial value40\n",
      "815915283247897734345611269596115894272000000000\n",
      "815915283247897734345611269596115894272000000000\n"
     ]
    }
   ],
   "source": [
    "n=int(input(\"enter number to get factorial value\"))\n",
    "facto(n)\n",
    "def facto(num):\n",
    "    factorial=1\n",
    "    for i in range(1,num+1):\n",
    "        factorial=factorial*i\n",
    "    print(factorial)\n",
    "# otherway by recusion\n",
    "\n",
    "f=recFact(n)\n",
    "print(f)\n",
    "def recFact(n):\n",
    "    if(n==1):\n",
    "        return n\n",
    "    else:\n",
    "        return n*recFact(n-1)\n",
    "    "
   ]
  },
  {
   "cell_type": "raw",
   "metadata": {},
   "source": [
    "2.\tWrite a Python Program to Display the multiplication Table?"
   ]
  },
  {
   "cell_type": "code",
   "execution_count": 14,
   "metadata": {},
   "outputs": [
    {
     "name": "stdout",
     "output_type": "stream",
     "text": [
      "enter number 57\n",
      "57 x 1 = 57\n",
      "57 x 2 = 114\n",
      "57 x 3 = 171\n",
      "57 x 4 = 228\n",
      "57 x 5 = 285\n",
      "57 x 6 = 342\n",
      "57 x 7 = 399\n",
      "57 x 8 = 456\n",
      "57 x 9 = 513\n",
      "57 x 10 = 570\n"
     ]
    }
   ],
   "source": [
    "n=int(input(\"enter number \"))\n",
    "for i in range(1,11):\n",
    "    mul= n*i\n",
    "    print(\"{} x {} = {}\".format(n,i,n*i))"
   ]
  },
  {
   "cell_type": "markdown",
   "metadata": {},
   "source": [
    "3.\tWrite a Python Program to Print the Fibonacci sequence?"
   ]
  },
  {
   "cell_type": "code",
   "execution_count": 23,
   "metadata": {},
   "outputs": [
    {
     "name": "stdout",
     "output_type": "stream",
     "text": [
      "enter number 77\n",
      "[0, 1, 1, 2, 3, 5, 8, 13, 21, 34, 55, 89, 144, 233, 377, 610, 987, 1597, 2584, 4181, 6765, 10946, 17711, 28657, 46368, 75025, 121393, 196418, 317811, 514229, 832040, 1346269, 2178309, 3524578, 5702887, 9227465, 14930352, 24157817, 39088169, 63245986, 102334155, 165580141, 267914296, 433494437, 701408733, 1134903170, 1836311903, 2971215073, 4807526976, 7778742049, 12586269025, 20365011074, 32951280099, 53316291173, 86267571272, 139583862445, 225851433717, 365435296162, 591286729879, 956722026041, 1548008755920, 2504730781961, 4052739537881, 6557470319842, 10610209857723, 17167680177565, 27777890035288, 44945570212853, 72723460248141, 117669030460994, 190392490709135, 308061521170129, 498454011879264, 806515533049393, 1304969544928657, 2111485077978050, 3416454622906707, 5527939700884757]\n"
     ]
    }
   ],
   "source": [
    "num=int(input(\"enter number \"))\n",
    "n=0\n",
    "n2=1\n",
    "fib=[0]\n",
    "for i in range(num):\n",
    "    fib.append(n2)\n",
    "    temp=n2\n",
    "    n2=n+n2\n",
    "    n=temp\n",
    "print(fib)    \n",
    "        "
   ]
  },
  {
   "cell_type": "raw",
   "metadata": {},
   "source": [
    "4.\tWrite a Python Program to Check Armstrong Number?"
   ]
  },
  {
   "cell_type": "code",
   "execution_count": 36,
   "metadata": {},
   "outputs": [
    {
     "name": "stdout",
     "output_type": "stream",
     "text": [
      "enter number 153\n",
      "given number is Armstrong\n"
     ]
    }
   ],
   "source": [
    "n=int(input(\"enter number \"))\n",
    "temp=n\n",
    "tot=0\n",
    "while(temp>0):\n",
    "    d=temp%10\n",
    "   \n",
    "    tot+=d**3\n",
    "    temp=int(temp/10)\n",
    "if(tot==n):\n",
    "    print(\"given number is Armstrong\")\n",
    "else:\n",
    "    print(\"given number is not Armstrong\")\n",
    "    "
   ]
  },
  {
   "cell_type": "raw",
   "metadata": {},
   "source": [
    "5.\tWrite a Python Program to Find Armstrong Number in an Interval?"
   ]
  },
  {
   "cell_type": "code",
   "execution_count": 37,
   "metadata": {},
   "outputs": [
    {
     "name": "stdout",
     "output_type": "stream",
     "text": [
      "enter start range 10\n",
      "enter end range 5000000\n",
      "153\n",
      "370\n",
      "371\n",
      "407\n"
     ]
    }
   ],
   "source": [
    "s=int(input(\"enter start range \"))\n",
    "e=int(input(\"enter end range \"))\n",
    "for i in range(s,e+1):\n",
    "    temp=i\n",
    "    tot=0\n",
    "    while(temp>0):\n",
    "        d=temp%10\n",
    "\n",
    "        tot+=d**3\n",
    "        temp=int(temp/10)\n",
    "    if(tot==i):\n",
    "        print(i)\n",
    "    "
   ]
  },
  {
   "cell_type": "raw",
   "metadata": {},
   "source": [
    "6.\tWrite a Python Program to Find the Sum of Natural Numbers?"
   ]
  },
  {
   "cell_type": "code",
   "execution_count": 7,
   "metadata": {},
   "outputs": [
    {
     "name": "stdout",
     "output_type": "stream",
     "text": [
      "enter number 16\n",
      "sum of natula num is  136\n",
      "sum by formula 136.0\n"
     ]
    }
   ],
   "source": [
    "n=int(input(\"enter number \"))\n",
    "#by normal loop\n",
    "tot=0\n",
    "for i in range(n+1):\n",
    "    tot+=i\n",
    "print(\"sum of natula num is \",tot)\n",
    "#other way by formula\n",
    "print(\"sum by formula\",n*(n+1)/2)\n",
    "\n"
   ]
  },
  {
   "cell_type": "code",
   "execution_count": null,
   "metadata": {},
   "outputs": [],
   "source": []
  },
  {
   "cell_type": "code",
   "execution_count": null,
   "metadata": {},
   "outputs": [],
   "source": []
  }
 ],
 "metadata": {
  "kernelspec": {
   "display_name": "Python 3",
   "language": "python",
   "name": "python3"
  },
  "language_info": {
   "codemirror_mode": {
    "name": "ipython",
    "version": 3
   },
   "file_extension": ".py",
   "mimetype": "text/x-python",
   "name": "python",
   "nbconvert_exporter": "python",
   "pygments_lexer": "ipython3",
   "version": "3.7.1"
  }
 },
 "nbformat": 4,
 "nbformat_minor": 2
}
