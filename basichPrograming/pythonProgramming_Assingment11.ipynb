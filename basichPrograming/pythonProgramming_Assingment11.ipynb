{
 "cells": [
  {
   "cell_type": "markdown",
   "metadata": {},
   "source": [
    "1.\tWrite a Python program to find words which are greater than given length k?"
   ]
  },
  {
   "cell_type": "code",
   "execution_count": 1,
   "metadata": {},
   "outputs": [
    {
     "name": "stdout",
     "output_type": "stream",
     "text": [
      "enter length of num to find words4\n"
     ]
    },
    {
     "data": {
      "text/plain": [
       "['rajesh', 'sukumar', 'chaithu', 'aparna']"
      ]
     },
     "execution_count": 1,
     "metadata": {},
     "output_type": "execute_result"
    }
   ],
   "source": [
    "w=['ram','siva','rajesh','sukumar','chaithu','aparna','sai']\n",
    "k=int(input('enter length of num to find words'))\n",
    "res=[i for i in w if len(i)>k]\n",
    "res"
   ]
  },
  {
   "cell_type": "markdown",
   "metadata": {},
   "source": [
    "2.\tWrite a Python program for removing i-th character from a string?"
   ]
  },
  {
   "cell_type": "code",
   "execution_count": 8,
   "metadata": {},
   "outputs": [
    {
     "name": "stdout",
     "output_type": "stream",
     "text": [
      "before deleting:  ramkumar\n",
      "after delete 3rd char:  rakumar\n"
     ]
    }
   ],
   "source": [
    "s='ramkumar'\n",
    "i=3\n",
    "print(\"before deleting: \",s)\n",
    "s=s[:i-1]+s[i:]\n",
    "print(\"after delete 3rd char: \",s)"
   ]
  },
  {
   "cell_type": "markdown",
   "metadata": {},
   "source": [
    "3.\tWrite a Python program to split and join a string?"
   ]
  },
  {
   "cell_type": "code",
   "execution_count": 14,
   "metadata": {},
   "outputs": [
    {
     "name": "stdout",
     "output_type": "stream",
     "text": [
      "before split:  hello Ineuron! how are you?\n",
      "after split of a string:  ['hello', 'Ineuron!', 'how', 'are', 'you?']\n",
      "again after join the string:  hello Ineuron! how are you?\n"
     ]
    }
   ],
   "source": [
    "s='hello Ineuron! how are you?'\n",
    "print(\"before split: \",s)\n",
    "sl=s.split(' ')\n",
    "print(\"after split of a string: \",sl)\n",
    "print(\"again after join the string: \",' '.join(sl))"
   ]
  },
  {
   "cell_type": "markdown",
   "metadata": {},
   "source": [
    "4.\tWrite a Python to check if a given string is binary string or not?"
   ]
  },
  {
   "cell_type": "code",
   "execution_count": 16,
   "metadata": {},
   "outputs": [
    {
     "name": "stdout",
     "output_type": "stream",
     "text": [
      " given string:  01010101010  is a binary string\n",
      " given string:  ramkumat23  is not binary string\n",
      "--by regular expression---\n",
      "given is binary string:  01010101010\n"
     ]
    }
   ],
   "source": [
    "s = \"01010101010\"\n",
    "s2='ramkumat23'\n",
    "\n",
    "se={'0','1'}\n",
    "if se==set(s) or set(s)=={'1'} or set(s)=={'0'}:\n",
    "    print(\" given string: \",s,\" is a binary string\")\n",
    "if se==set(s2) or set(s2)=={'1'} or set(s2)=={'0'}:\n",
    "    print(\" given string: \",s2,\" is  binary string\")\n",
    "else:\n",
    "     print(\" given string: \",s2,\" is not binary string\")\n",
    "\n",
    "print(\"--by regular expression---\")\n",
    "import re\n",
    "s = \"01010101010\"\n",
    "c=re.compile('[^01]')\n",
    "if len(c.findall(s)):\n",
    "    print(\"not binary\")\n",
    "else:\n",
    "    print(\"given is binary string: \",s)"
   ]
  },
  {
   "cell_type": "markdown",
   "metadata": {},
   "source": [
    "5.\tWrite a Python program to find uncommon words from two Strings?"
   ]
  },
  {
   "cell_type": "code",
   "execution_count": 31,
   "metadata": {},
   "outputs": [
    {
     "name": "stdout",
     "output_type": "stream",
     "text": [
      "['ram', 'is', 'a', 'good', 'boy', 'raj', 'also', 'a', 'good', 'boy']\n",
      "uncommon words are:  ['ram', 'is', 'raj', 'also']\n"
     ]
    }
   ],
   "source": [
    "s1='ram is a good boy'\n",
    "s2='raj also a good boy'\n",
    "s3=s1.split()\n",
    "s4=s3.extend(list(s2.split()))\n",
    "print(s3)\n",
    "print(\"uncommon words are: \",[i for i in s3 if (i not in s2.split() or i not in s1.split())])\n",
    "\n"
   ]
  },
  {
   "cell_type": "markdown",
   "metadata": {},
   "source": [
    "6.\tWrite a Python to find all duplicate characters in string?"
   ]
  },
  {
   "cell_type": "code",
   "execution_count": 30,
   "metadata": {},
   "outputs": [
    {
     "name": "stdout",
     "output_type": "stream",
     "text": [
      "duplicate characters from string: \" qqwertyuiyr \" is:  {'y', 'q', 'r'}\n"
     ]
    }
   ],
   "source": [
    "s1='qqwertyuiyr'\n",
    "print(\"duplicate characters from string: \\\"\",s1, \"\\\" is: \",set([i for i in s1 if s1.count(i)>1]))\n"
   ]
  },
  {
   "cell_type": "markdown",
   "metadata": {},
   "source": [
    "7.\tWrite a Python Program to check if a string contains any special character?"
   ]
  },
  {
   "cell_type": "code",
   "execution_count": 47,
   "metadata": {},
   "outputs": [
    {
     "name": "stdout",
     "output_type": "stream",
     "text": [
      "ram@107  contains special characters\n"
     ]
    }
   ],
   "source": [
    "import re\n",
    "s='ram@107'\n",
    "reg=re.compile('[@_!#$%^&*()<>?/\\|}{~:]')\n",
    "if reg.search(s)==None:\n",
    "    print(s,\" not contains special characters\")\n",
    "else:\n",
    "    print(s,\" contains special characters\")\n",
    "    "
   ]
  },
  {
   "cell_type": "code",
   "execution_count": null,
   "metadata": {},
   "outputs": [],
   "source": []
  }
 ],
 "metadata": {
  "kernelspec": {
   "display_name": "Python 3",
   "language": "python",
   "name": "python3"
  },
  "language_info": {
   "codemirror_mode": {
    "name": "ipython",
    "version": 3
   },
   "file_extension": ".py",
   "mimetype": "text/x-python",
   "name": "python",
   "nbconvert_exporter": "python",
   "pygments_lexer": "ipython3",
   "version": "3.7.1"
  }
 },
 "nbformat": 4,
 "nbformat_minor": 2
}
