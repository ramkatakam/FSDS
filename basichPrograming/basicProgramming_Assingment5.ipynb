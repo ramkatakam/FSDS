{
 "cells": [
  {
   "cell_type": "markdown",
   "metadata": {},
   "source": [
    "1.\tWrite a Python Program to Find LCM?"
   ]
  },
  {
   "cell_type": "code",
   "execution_count": 11,
   "metadata": {},
   "outputs": [
    {
     "name": "stdout",
     "output_type": "stream",
     "text": [
      "lcm-- 96\n"
     ]
    }
   ],
   "source": [
    "n1,n2=24,32\n",
    "#find gretest of n1 and n2\n",
    "if( n1 >n2):\n",
    "    greater=n1\n",
    "else:\n",
    "    greater=n2\n",
    "    \n",
    "    \n",
    "condflag=True\n",
    "while(condflag):\n",
    "    if(greater % n1 ==0 and greater %n2 ==0):\n",
    "        lcm=greater\n",
    "        print(\"lcm--\",lcm)\n",
    "        condflag=False\n",
    "    greater+=1\n",
    "\n",
    "    "
   ]
  },
  {
   "cell_type": "markdown",
   "metadata": {},
   "source": [
    "2.\tWrite a Python Program to Find HCF?"
   ]
  },
  {
   "cell_type": "code",
   "execution_count": 10,
   "metadata": {},
   "outputs": [
    {
     "name": "stdout",
     "output_type": "stream",
     "text": [
      "gCD-- 6\n"
     ]
    }
   ],
   "source": [
    "n1=54\n",
    "n2=24\n",
    "#find smaller of n1 and n2\n",
    "if(n1<n2):\n",
    "    smaller=n1\n",
    "else:\n",
    "    smaller=n2\n",
    "for i in range(smaller,1,-1):\n",
    "    if(n1%i==0 and n2%i==0):\n",
    "        print(\"gCD--\",i)\n",
    "        break"
   ]
  },
  {
   "cell_type": "markdown",
   "metadata": {},
   "source": [
    "3.\tWrite a Python Program to Convert Decimal to Binary, Octal and Hexadecimal?"
   ]
  },
  {
   "cell_type": "code",
   "execution_count": 17,
   "metadata": {},
   "outputs": [
    {
     "name": "stdout",
     "output_type": "stream",
     "text": [
      "Decimal to binary conversion-- [1, 0, 1, 1, 0, 1]\n",
      "Decimal to Octa conversion-- [5, 5]\n",
      "Decimal to hexa conversion-- [13, 2]\n"
     ]
    }
   ],
   "source": [
    "n=45\n",
    "#Decimal to binary conversion\n",
    "temp=n\n",
    "bin=[]\n",
    "while(temp):\n",
    "    bin.append(temp%2)\n",
    "    temp=int(temp/2)\n",
    "    if(temp==1 or temp==0):\n",
    "        bin.append(temp)\n",
    "        break\n",
    "print(\"Decimal to binary conversion--\",bin)\n",
    "\n",
    "#Decimal to Octal\n",
    "temp=n\n",
    "octa=[]\n",
    "while(temp):\n",
    "    octa.append(temp%8)\n",
    "    temp=int(temp/8)\n",
    "    if(temp<8):\n",
    "        octa.append(temp)\n",
    "        break\n",
    "print(\"Decimal to Octa conversion--\",octa)\n",
    "\n",
    "#Decimal to Hexa\n",
    "temp=n\n",
    "hexa=[]\n",
    "while(temp):\n",
    "    hexa.append(temp%16)\n",
    "    temp=int(temp/16)\n",
    "    if(temp<16):\n",
    "        hexa.append(temp)\n",
    "        break\n",
    "print(\"Decimal to hexa conversion--\",hexa)\n"
   ]
  },
  {
   "cell_type": "markdown",
   "metadata": {},
   "source": [
    "4.\tWrite a Python Program To Find ASCII value of a character?"
   ]
  },
  {
   "cell_type": "code",
   "execution_count": 23,
   "metadata": {},
   "outputs": [
    {
     "name": "stdout",
     "output_type": "stream",
     "text": [
      "enter any character R\n",
      "the ascii value is-- 82\n"
     ]
    }
   ],
   "source": [
    "c=input(\"enter any character \")\n",
    "print(\"the ascii value is--\",ord(c))"
   ]
  },
  {
   "cell_type": "markdown",
   "metadata": {},
   "source": [
    "5.\tWrite a Python Program to Make a Simple Calculator with 4 basic mathematical operations?"
   ]
  },
  {
   "cell_type": "code",
   "execution_count": 29,
   "metadata": {},
   "outputs": [
    {
     "name": "stdout",
     "output_type": "stream",
     "text": [
      "select choice of calculation\n",
      "                1. Addition\n",
      "                2. Muliplication\n",
      "                3. Division\n",
      "                4. Subtraction\n",
      "            Pease select choice of 1/2/3/4: 3\n",
      "please enter n1: 3\n",
      "please enter n2: 7\n",
      "Division-- 0.42857142857142855\n",
      "Let's do next calculation (Yes/NO): yes\n",
      "select choice of calculation\n",
      "                1. Addition\n",
      "                2. Muliplication\n",
      "                3. Division\n",
      "                4. Subtraction\n",
      "            Pease select choice of 1/2/3/4: 3\n",
      "please enter n1: 3\n",
      "please enter n2: 77\n",
      "Division-- 0.03896103896103896\n",
      "Let's do next calculation (Yes/NO): NO\n"
     ]
    }
   ],
   "source": [
    "def add(n1, n2):\n",
    "    return n1+n2\n",
    "def multiply(n1, n2):\n",
    "    return n1*n2\n",
    "def divi(n1, n2):\n",
    "    return n1/n2\n",
    "def subtract(n1, n2):\n",
    "    return n1-n2\n",
    "while(True):\n",
    "    choice=input('''select choice of calculation\n",
    "                1. Addition\n",
    "                2. Muliplication\n",
    "                3. Division\n",
    "                4. Subtraction\n",
    "            Pease select choice of 1/2/3/4: ''')\n",
    "    if( choice in ('1','2','3','4')):\n",
    "        n1=   int(input(\"please enter n1: \"))\n",
    "        n2=   int(input(\"please enter n2: \"))\n",
    "        if choice=='1':\n",
    "            print(\"addition--\",add(n1,n2))\n",
    "        elif choice=='2':\n",
    "            print(\"Multiplication--\",multiply(n1,n2))\n",
    "        elif choice=='3':\n",
    "            print(\"Division--\",divi(n1,n2))\n",
    "        elif choice=='4':\n",
    "            print(\"Subtraction--\",subtract(n1,n2))\n",
    "    else:\n",
    "        print(\"invalid choice\")\n",
    "    nextcal=input(\"Let's do next calculation (Yes/NO): \")\n",
    "    if nextcal =='NO':\n",
    "        break\n",
    "    "
   ]
  },
  {
   "cell_type": "code",
   "execution_count": null,
   "metadata": {},
   "outputs": [],
   "source": [
    ":"
   ]
  },
  {
   "cell_type": "code",
   "execution_count": null,
   "metadata": {},
   "outputs": [],
   "source": []
  }
 ],
 "metadata": {
  "kernelspec": {
   "display_name": "Python 3",
   "language": "python",
   "name": "python3"
  },
  "language_info": {
   "codemirror_mode": {
    "name": "ipython",
    "version": 3
   },
   "file_extension": ".py",
   "mimetype": "text/x-python",
   "name": "python",
   "nbconvert_exporter": "python",
   "pygments_lexer": "ipython3",
   "version": "3.7.1"
  }
 },
 "nbformat": 4,
 "nbformat_minor": 2
}
