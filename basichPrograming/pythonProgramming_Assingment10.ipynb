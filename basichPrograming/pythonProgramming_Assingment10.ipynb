{
 "cells": [
  {
   "cell_type": "raw",
   "metadata": {},
   "source": [
    "1.\tWrite a Python program to find sum of elements in list?"
   ]
  },
  {
   "cell_type": "code",
   "execution_count": 4,
   "metadata": {},
   "outputs": [
    {
     "name": "stdout",
     "output_type": "stream",
     "text": [
      "231\n"
     ]
    }
   ],
   "source": [
    "l=list(range(1,22))\n",
    "print(sum(l))"
   ]
  },
  {
   "cell_type": "markdown",
   "metadata": {},
   "source": [
    "2.\tWrite a Python program to  Multiply all numbers in the list?"
   ]
  },
  {
   "cell_type": "code",
   "execution_count": 13,
   "metadata": {},
   "outputs": [
    {
     "name": "stdout",
     "output_type": "stream",
     "text": [
      "32\n"
     ]
    }
   ],
   "source": [
    "from functools import reduce\n",
    "l=(1,8,2,2)\n",
    "tot=reduce((lambda x, y: x * y), l)\n",
    "print(tot)"
   ]
  },
  {
   "cell_type": "markdown",
   "metadata": {},
   "source": [
    "3.\tWrite a Python program to find smallest number in a list?"
   ]
  },
  {
   "cell_type": "code",
   "execution_count": 18,
   "metadata": {},
   "outputs": [
    {
     "name": "stdout",
     "output_type": "stream",
     "text": [
      "smallest of list:  3\n"
     ]
    }
   ],
   "source": [
    "l=(4,76,3,6,7)\n",
    "print(\"smallest of list: \",sorted(l)[0])"
   ]
  },
  {
   "cell_type": "markdown",
   "metadata": {},
   "source": [
    "4.\tWrite a Python program to find largest number in a list?"
   ]
  },
  {
   "cell_type": "code",
   "execution_count": 20,
   "metadata": {},
   "outputs": [
    {
     "name": "stdout",
     "output_type": "stream",
     "text": [
      "maximum num of list:  76\n"
     ]
    }
   ],
   "source": [
    "l=(4,76,3,6,7)\n",
    "print(\"maximum num of list: \",max(l))"
   ]
  },
  {
   "cell_type": "markdown",
   "metadata": {},
   "source": [
    "5.\tWrite a Python program to find second largest number in a list?"
   ]
  },
  {
   "cell_type": "code",
   "execution_count": 27,
   "metadata": {},
   "outputs": [
    {
     "name": "stdout",
     "output_type": "stream",
     "text": [
      "second largest num:  7\n"
     ]
    }
   ],
   "source": [
    "l=[4,76,3,6,7]\n",
    "l.sort(reverse=True)\n",
    "#l.pop(0)\n",
    "print(\"second largest num: \",l[1])"
   ]
  },
  {
   "cell_type": "markdown",
   "metadata": {},
   "source": [
    "6.\tWrite a Python program to find N largest elements from a list?"
   ]
  },
  {
   "cell_type": "code",
   "execution_count": 35,
   "metadata": {},
   "outputs": [
    {
     "name": "stdout",
     "output_type": "stream",
     "text": [
      "enter N largest4\n",
      "4 th largest numbers in the given list:  [7457, 6534, 76, 44]\n"
     ]
    }
   ],
   "source": [
    "l=[4,76,3,6534,7457,43,44,7]\n",
    "N=int(input(\"enter N largest\"))\n",
    "l.sort(reverse=True)\n",
    "\n",
    "print(N,\"th largest numbers in the given list: \",l[:N])"
   ]
  },
  {
   "cell_type": "markdown",
   "metadata": {},
   "source": [
    "7.\tWrite a Python program to print even numbers in a list?"
   ]
  },
  {
   "cell_type": "code",
   "execution_count": 53,
   "metadata": {},
   "outputs": [
    {
     "name": "stdout",
     "output_type": "stream",
     "text": [
      "even num from list:  [4, 76, 6534, 44]\n",
      "using filter:  [4, 76, 6534, 44]\n"
     ]
    }
   ],
   "source": [
    "l=[4,76,3,6534,7457,43,44,7]\n",
    "print(\"even num from list: \",[i for i in l if i%2==0])\n",
    "#by Comprehension\n",
    "print(\"using filter: \",list(filter(lambda x: x%2==0,l)))"
   ]
  },
  {
   "cell_type": "markdown",
   "metadata": {},
   "source": [
    "8.\tWrite a Python program to print odd numbers in a List?"
   ]
  },
  {
   "cell_type": "code",
   "execution_count": 55,
   "metadata": {},
   "outputs": [
    {
     "name": "stdout",
     "output_type": "stream",
     "text": [
      "Odd numbers using filter:  [3, 7457, 43, 7]\n"
     ]
    }
   ],
   "source": [
    "l=[4,76,3,6534,7457,43,44,7]\n",
    "\n",
    "print(\"Odd numbers using filter: \",list(filter(lambda x: x%2==1,l)))"
   ]
  },
  {
   "cell_type": "markdown",
   "metadata": {},
   "source": [
    "9.\tWrite a Python program to Remove empty List from List?"
   ]
  },
  {
   "cell_type": "code",
   "execution_count": 61,
   "metadata": {},
   "outputs": [
    {
     "name": "stdout",
     "output_type": "stream",
     "text": [
      "[4, 76, 3, 6534, 7457, 43, [34], 44, ['sf', 3], 7]\n",
      "by using comprehension:  [4, 76, 3, 6534, 7457, 43, [34], 44, ['sf', 3], 7]\n"
     ]
    }
   ],
   "source": [
    "l=[4,76,3,[],6534,7457,[],43,[34],44,['sf',3],7]\n",
    "for i in l:\n",
    "    if type(i) == list:\n",
    "        if len(i)==0:\n",
    "            l.remove(i)\n",
    "print(l)\n",
    "l=[4,76,3,[],6534,7457,[],43,[34],44,['sf',3],7]\n",
    "print(\"by using comprehension: \",[i for i in l if i !=[] ])\n",
    "\n",
    "        "
   ]
  },
  {
   "cell_type": "markdown",
   "metadata": {},
   "source": [
    "10.\tWrite a Python program to Cloning or Copying a list?"
   ]
  },
  {
   "cell_type": "code",
   "execution_count": 64,
   "metadata": {},
   "outputs": [
    {
     "name": "stdout",
     "output_type": "stream",
     "text": [
      "[[4, 76, 3, [], 6534, 7457, [], 43, [34], 44, ['sf', 3], 7]]\n",
      "fastest way of copy by slicing is: [4, 76, 3, [], 6534, 7457, [], 43, [34], 44, ['sf', 3], 7]\n"
     ]
    }
   ],
   "source": [
    "l=[4,76,3,[],6534,7457,[],43,[34],44,['sf',3],7]\n",
    "l2=[]\n",
    "l2.append(l)\n",
    "print(l2)\n",
    "l3=l[:]\n",
    "print(\"fastest way of copy by slicing is:\",l3)"
   ]
  },
  {
   "cell_type": "markdown",
   "metadata": {},
   "source": [
    "11.\tWrite a Python program to Count occurrences of an element in a list?"
   ]
  },
  {
   "cell_type": "code",
   "execution_count": 80,
   "metadata": {},
   "outputs": [
    {
     "name": "stdout",
     "output_type": "stream",
     "text": [
      "enter num to find the count in the list5\n",
      "5  in occurance of list is:  2\n"
     ]
    }
   ],
   "source": [
    "l=[4,76,3,6534,7457,43,4,44,33,5,4,3,5,4,3,7]\n",
    "\n",
    "ele =int(input(\"enter num to find the count in the list\"))\n",
    "res=list(filter(lambda x:x==ele,l))\n",
    "print(ele, \" in occurance of list is: \", len(res))"
   ]
  }
 ],
 "metadata": {
  "kernelspec": {
   "display_name": "Python 3",
   "language": "python",
   "name": "python3"
  },
  "language_info": {
   "codemirror_mode": {
    "name": "ipython",
    "version": 3
   },
   "file_extension": ".py",
   "mimetype": "text/x-python",
   "name": "python",
   "nbconvert_exporter": "python",
   "pygments_lexer": "ipython3",
   "version": "3.7.1"
  }
 },
 "nbformat": 4,
 "nbformat_minor": 2
}
