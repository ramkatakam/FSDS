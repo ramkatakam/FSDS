{
 "cells": [
  {
   "cell_type": "raw",
   "metadata": {},
   "source": [
    "1.\tWrite a Python program to convert kilometers to miles?"
   ]
  },
  {
   "cell_type": "code",
   "execution_count": 4,
   "metadata": {},
   "outputs": [
    {
     "name": "stdout",
     "output_type": "stream",
     "text": [
      "10 killometes is equalsa to 6.2137119 miles\n"
     ]
    }
   ],
   "source": [
    "#1 km = 0.62137119 miles.\n",
    "km=10\n",
    "covertToMiles= 0.62137119*km\n",
    "print(\"{} killometes is equals to {} miles\".format(km,covertToMiles))"
   ]
  },
  {
   "cell_type": "raw",
   "metadata": {},
   "source": [
    "2.\tWrite a Python program to convert Celsius to Fahrenheit?"
   ]
  },
  {
   "cell_type": "code",
   "execution_count": 6,
   "metadata": {},
   "outputs": [
    {
     "name": "stdout",
     "output_type": "stream",
     "text": [
      "20 celsius is equals to 68.0 Fahrenheit\n"
     ]
    }
   ],
   "source": [
    "cel=20\n",
    "far=(cel * 1.8) + 32\n",
    "print(\"{} celsius is equals to {} Fahrenheit\".format(cel,far))"
   ]
  },
  {
   "cell_type": "raw",
   "metadata": {},
   "source": [
    "3.\tWrite a Python program to display calendar?"
   ]
  },
  {
   "cell_type": "code",
   "execution_count": 16,
   "metadata": {},
   "outputs": [
    {
     "name": "stdout",
     "output_type": "stream",
     "text": [
      "    October 1989\n",
      "Mo Tu We Th Fr Sa Su\n",
      "                   1\n",
      " 2  3  4  5  6  7  8\n",
      " 9 10 11 12 13 14 15\n",
      "16 17 18 19 20 21 22\n",
      "23 24 25 26 27 28 29\n",
      "30 31\n",
      "\n"
     ]
    }
   ],
   "source": [
    "import calendar as cal\n",
    "year=1989\n",
    "mon=10\n",
    "print(cal.month(year,mon))"
   ]
  },
  {
   "cell_type": "raw",
   "metadata": {},
   "source": [
    "4.\tWrite a Python program to solve quadratic equation?"
   ]
  },
  {
   "cell_type": "code",
   "execution_count": 20,
   "metadata": {},
   "outputs": [
    {
     "name": "stdout",
     "output_type": "stream",
     "text": [
      "the solutions of quadractic equation are -38.38095238095238 and 36.857142857142854\n"
     ]
    }
   ],
   "source": [
    "import math\n",
    "#the coefficients of a,b,c are\n",
    "a,b,c= 21,32,31\n",
    "#find the discriminant\n",
    "disc= (b*b-4*a*c)\n",
    "#find two solutions\n",
    "sol1= (-b+disc)/(2*a)\n",
    "sol2= (-b-disc)/(2*a)\n",
    "\n",
    "print(\"the solutions of quadractic equation are {0} and {1}\".format(sol1,sol2))"
   ]
  },
  {
   "cell_type": "raw",
   "metadata": {},
   "source": [
    "5.\tWrite a Python program to swap two variables without temp variable?"
   ]
  },
  {
   "cell_type": "code",
   "execution_count": 26,
   "metadata": {},
   "outputs": [
    {
     "name": "stdout",
     "output_type": "stream",
     "text": [
      "7 3\n",
      "23 35\n"
     ]
    }
   ],
   "source": [
    "a,b=3,7\n",
    "a,b=b,a\n",
    "print(a , b)\n",
    "# another way\n",
    "a,b = 35,23\n",
    "a=a+b\n",
    "b=a-b\n",
    "a=a-b\n",
    "print(a, b)"
   ]
  },
  {
   "cell_type": "code",
   "execution_count": null,
   "metadata": {},
   "outputs": [],
   "source": []
  }
 ],
 "metadata": {
  "kernelspec": {
   "display_name": "Python 3",
   "language": "python",
   "name": "python3"
  },
  "language_info": {
   "codemirror_mode": {
    "name": "ipython",
    "version": 3
   },
   "file_extension": ".py",
   "mimetype": "text/x-python",
   "name": "python",
   "nbconvert_exporter": "python",
   "pygments_lexer": "ipython3",
   "version": "3.7.1"
  }
 },
 "nbformat": 4,
 "nbformat_minor": 2
}
